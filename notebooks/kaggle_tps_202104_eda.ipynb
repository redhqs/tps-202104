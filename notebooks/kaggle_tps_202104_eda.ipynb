{
 "cells": [
  {
   "cell_type": "markdown",
   "id": "serious-dallas",
   "metadata": {},
   "source": [
    "### EDA of Apr 2021 kaggle TPS\n",
    "\n",
    "This notebook is used to do initial exploration of the training data, get an understanding of the distribution and completeness of each column and relationship with the target. The aim is to build enough of an understanding to make some baseline predictions.\n",
    "\n",
    "[Data dictionary](https://www.kaggle.com/c/tabular-playground-series-apr-2021/data?select=train.csv)"
   ]
  },
  {
   "cell_type": "code",
   "execution_count": null,
   "id": "raised-specialist",
   "metadata": {},
   "outputs": [],
   "source": [
    "import numpy as np\n",
    "import pandas as pd\n",
    "import seaborn as sns\n",
    "import matplotlib.pyplot as plt"
   ]
  },
  {
   "cell_type": "code",
   "execution_count": null,
   "id": "narrow-davis",
   "metadata": {},
   "outputs": [],
   "source": [
    "df = pd.read_csv(\"../data/raw/train.csv\")"
   ]
  },
  {
   "cell_type": "code",
   "execution_count": null,
   "id": "floating-bacteria",
   "metadata": {},
   "outputs": [],
   "source": [
    "df.head()"
   ]
  },
  {
   "cell_type": "markdown",
   "id": "metric-range",
   "metadata": {},
   "source": [
    "We can get some idea of what to expect from the first few rows - next to look at the distribution of each more closely, and think about how to handle missing data and how to encode sex, class, port of embarkation etc."
   ]
  },
  {
   "cell_type": "code",
   "execution_count": null,
   "id": "organic-applicant",
   "metadata": {},
   "outputs": [],
   "source": [
    "df.describe()"
   ]
  },
  {
   "cell_type": "markdown",
   "id": "fabulous-raising",
   "metadata": {},
   "source": [
    "So with a 43% survival rate, hopefully we can do better than predicting everyone as lost at 57%. Noticing a lot of missing ages, not so many missing fares. Assuming the passenger IDs are all ok, on to survival and lots of plots."
   ]
  },
  {
   "cell_type": "code",
   "execution_count": null,
   "id": "checked-martin",
   "metadata": {},
   "outputs": [],
   "source": [
    "sns.displot(data=df, x=\"Survived\")"
   ]
  },
  {
   "cell_type": "code",
   "execution_count": null,
   "id": "bottom-break",
   "metadata": {},
   "outputs": [],
   "source": [
    "sns.displot(data=df, x=\"Pclass\", hue=\"Survived\", multiple=\"stack\")"
   ]
  },
  {
   "cell_type": "code",
   "execution_count": null,
   "id": "german-vinyl",
   "metadata": {},
   "outputs": [],
   "source": [
    "df.groupby(['Sex', 'Survived'])['Survived'].count()"
   ]
  },
  {
   "cell_type": "code",
   "execution_count": null,
   "id": "monthly-cigarette",
   "metadata": {},
   "outputs": [],
   "source": [
    "df['Sex'].isnull().sum()"
   ]
  },
  {
   "cell_type": "markdown",
   "id": "received-dealing",
   "metadata": {},
   "source": [
    "With no missing values here, this should be safe to encode as +/-1"
   ]
  },
  {
   "cell_type": "code",
   "execution_count": null,
   "id": "accepted-heater",
   "metadata": {},
   "outputs": [],
   "source": [
    "sns.displot(data=df, x=\"Age\", hue=\"Survived\", kind=\"kde\")"
   ]
  },
  {
   "cell_type": "code",
   "execution_count": null,
   "id": "special-region",
   "metadata": {},
   "outputs": [],
   "source": [
    "df['Age'].isnull().sum()\n",
    "#3.3% of values for Age are missing - may be able to impute from other cols"
   ]
  },
  {
   "cell_type": "code",
   "execution_count": null,
   "id": "outer-workshop",
   "metadata": {},
   "outputs": [],
   "source": [
    "sns.displot(data=df, x=\"SibSp\", hue=\"Survived\", multiple=\"stack\")\n",
    "# SibSp and Parch will be returned to after a baseline established"
   ]
  },
  {
   "cell_type": "code",
   "execution_count": null,
   "id": "bibliographic-region",
   "metadata": {},
   "outputs": [],
   "source": [
    "sns.displot(data=df, x=\"Parch\", hue=\"Survived\", multiple=\"stack\")"
   ]
  },
  {
   "cell_type": "code",
   "execution_count": null,
   "id": "adverse-effect",
   "metadata": {},
   "outputs": [],
   "source": [
    "print(df['Ticket'].nunique())\n",
    "print(df['Ticket'].isnull().sum())\n",
    "# After baseline established, should be possible to link families using ticket, cabin"
   ]
  },
  {
   "cell_type": "code",
   "execution_count": null,
   "id": "nutritional-challenge",
   "metadata": {},
   "outputs": [],
   "source": [
    "print(df['Fare'].isnull().sum())\n",
    "sns.displot(data=df, x=\"Fare\", hue=\"Survived\", kind=\"kde\")"
   ]
  },
  {
   "cell_type": "code",
   "execution_count": null,
   "id": "driven-switch",
   "metadata": {},
   "outputs": [],
   "source": [
    "print(df['Cabin'].nunique())\n",
    "print(df['Cabin'].isnull().sum())"
   ]
  },
  {
   "cell_type": "code",
   "execution_count": null,
   "id": "southwest-northeast",
   "metadata": {},
   "outputs": [],
   "source": [
    "df.groupby(['Embarked', 'Survived'])['Survived'].count()"
   ]
  },
  {
   "cell_type": "code",
   "execution_count": null,
   "id": "ranking-greeting",
   "metadata": {},
   "outputs": [],
   "source": [
    "df['Embarked'].isnull().sum()\n",
    "# A few missing here, to investigate after the first iteration is complete"
   ]
  }
 ],
 "metadata": {
  "kernelspec": {
   "display_name": "Python 3",
   "language": "python",
   "name": "python3"
  },
  "language_info": {
   "codemirror_mode": {
    "name": "ipython",
    "version": 3
   },
   "file_extension": ".py",
   "mimetype": "text/x-python",
   "name": "python",
   "nbconvert_exporter": "python",
   "pygments_lexer": "ipython3",
   "version": "3.9.1"
  }
 },
 "nbformat": 4,
 "nbformat_minor": 5
}
