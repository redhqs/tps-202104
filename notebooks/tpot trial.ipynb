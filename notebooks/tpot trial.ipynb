{
 "cells": [
  {
   "cell_type": "markdown",
   "id": "7530a7dc",
   "metadata": {},
   "source": [
    "### Trialling TPOT\n",
    "\n",
    "Having not used TPOT before, this could be a good opportunity to compare it to the model I produced after some basic EDA and modelling.\n",
    "\n",
    "This notebook needs significant work!"
   ]
  },
  {
   "cell_type": "code",
   "execution_count": null,
   "id": "ae442e1d",
   "metadata": {},
   "outputs": [],
   "source": [
    "import numpy as np\n",
    "import pandas as pd\n",
    "from sklearn.model_selection import train_test_split\n",
    "from sklearn.compose import make_column_transformer\n",
    "from sklearn.pipeline import make_pipeline\n",
    "from sklearn.preprocessing import StandardScaler, OneHotEncoder\n",
    "from sklearn.metrics import classification_report\n",
    "from tpot import TPOTClassifier"
   ]
  },
  {
   "cell_type": "code",
   "execution_count": null,
   "id": "2b84ddbb",
   "metadata": {},
   "outputs": [],
   "source": [
    "df = pd.read_csv(\"../data/raw/train.csv\")"
   ]
  },
  {
   "cell_type": "code",
   "execution_count": null,
   "id": "9143fd15",
   "metadata": {},
   "outputs": [],
   "source": [
    "df.head()"
   ]
  },
  {
   "cell_type": "code",
   "execution_count": null,
   "id": "e29bdab5",
   "metadata": {},
   "outputs": [],
   "source": [
    "target = df[['Survived']].rename(columns={'Survived': 'class'})\n",
    "features = df[['Pclass', 'Sex', 'Age', 'SibSp', 'Parch', 'Fare', 'Embarked', 'Cabin']]\n",
    "X_train, X_test, y_train, y_test = train_test_split(features, target, test_size=0.2, random_state=42)\n",
    "categorical = ['Pclass', 'Sex', 'Embarked']\n",
    "numeric = ['Age', 'SibSp', 'Parch', 'Fare']"
   ]
  },
  {
   "cell_type": "code",
   "execution_count": null,
   "id": "5db7b669",
   "metadata": {
    "scrolled": true
   },
   "outputs": [],
   "source": [
    "X_train['FamilySize'] = X_train['SibSp'] + X_train['Parch'] + 1\n",
    "X_train['IsAlone'] = np.where(X_train['FamilySize'] <= 1, 1, 0)\n",
    "# X_train['Sex'] = X_train['Sex'].map({'male':0,'female':1})\n",
    "# X_train['Embarked'] = X_train['Embarked'].map({'S':0,'C':1,'Q':2})\n",
    "X_train['Embarked'] = X_train['Embarked'].fillna('X')\n",
    "X_train['Age'] = X_train.groupby(['Sex','Pclass'], sort=False)['Age'].apply(lambda x: x.fillna(x.median()))\n",
    "X_train['Fare'] = X_train.groupby(['Sex','Pclass'], sort=False)['Fare'].apply(lambda x: x.fillna(x.median()))\n",
    "X_train['Has_Cabin'] = X_train['Cabin'].apply(lambda x: 0 if type(x) == float else 1)\n",
    "# X_train['Cabin'] = X_train['Cabin'].fillna('X').map(lambda x: x[0].strip())\n",
    "X_train['Cabin'] = X_train['Cabin'].fillna('X').map(lambda x: x[0].strip())\n",
    "cabin_map = {'A': 1, 'B': 2, 'C': 3, 'D': 4, 'E': 5,\n",
    "             'F': 6, 'G': 7, 'T': 1, 'X': 8}\n",
    "X_train['Cabin'] = X_train['Cabin'].str[0].fillna('X').replace(cabin_map)"
   ]
  },
  {
   "cell_type": "code",
   "execution_count": null,
   "id": "065c5d65",
   "metadata": {
    "scrolled": true
   },
   "outputs": [],
   "source": [
    "X_test['FamilySize'] = X_test['SibSp'] + X_test['Parch'] + 1\n",
    "X_test['IsAlone'] = np.where(X_test['FamilySize'] <= 1, 1, 0)\n",
    "# X_test['Sex'] = X_test['Sex'].map({'male':0,'female':1})\n",
    "# X_train['Embarked'] = X_train['Embarked'].map({'S':0,'C':1,'Q':2})\n",
    "X_test['Embarked'] = X_test['Embarked'].fillna('X')\n",
    "X_test['Age'] = X_test.groupby(['Sex','Pclass'], sort=False)['Age'].apply(lambda x: x.fillna(x.median()))\n",
    "X_test['Fare'] = X_test.groupby(['Sex','Pclass'], sort=False)['Fare'].apply(lambda x: x.fillna(x.median()))\n",
    "X_test['Has_Cabin'] = X_test['Cabin'].apply(lambda x: 0 if type(x) == float else 1)\n",
    "X_test['Cabin'] = X_test['Cabin'].fillna('X').map(lambda x: x[0].strip())\n",
    "cabin_map = {'A': 1, 'B': 2, 'C': 3, 'D': 4, 'E': 5,\n",
    "             'F': 6, 'G': 7, 'T': 1, 'X': 8}\n",
    "X_test['Cabin'] = X_test['Cabin'].str[0].fillna('X').replace(cabin_map)"
   ]
  },
  {
   "cell_type": "code",
   "execution_count": null,
   "id": "1535bfac",
   "metadata": {
    "scrolled": false
   },
   "outputs": [],
   "source": [
    "X_train.head()"
   ]
  },
  {
   "cell_type": "code",
   "execution_count": null,
   "id": "b23c320f",
   "metadata": {
    "scrolled": true
   },
   "outputs": [],
   "source": [
    "X_train.describe()"
   ]
  },
  {
   "cell_type": "code",
   "execution_count": null,
   "id": "6e2083d6",
   "metadata": {},
   "outputs": [],
   "source": [
    "X_test.head()"
   ]
  },
  {
   "cell_type": "code",
   "execution_count": null,
   "id": "3196de36",
   "metadata": {
    "scrolled": true
   },
   "outputs": [],
   "source": [
    "X_test.describe()"
   ]
  },
  {
   "cell_type": "code",
   "execution_count": null,
   "id": "c9257926",
   "metadata": {},
   "outputs": [],
   "source": [
    "categorical = ['Pclass', 'Sex', 'Embarked', 'Cabin', 'IsAlone', 'Has_Cabin']\n",
    "numeric = ['Age', 'Fare', 'FamilySize']\n",
    "\n",
    "preprocessor = make_column_transformer(\n",
    "    (StandardScaler(), numeric),\n",
    "    (OneHotEncoder(drop='if_binary'), categorical), \n",
    "    remainder='drop')"
   ]
  },
  {
   "cell_type": "code",
   "execution_count": null,
   "id": "dad7c3a0",
   "metadata": {},
   "outputs": [],
   "source": [
    "from sklearn.ensemble import GradientBoostingClassifier\n",
    "\n",
    "model_gb = make_pipeline(\n",
    "    preprocessor,\n",
    "    GradientBoostingClassifier())\n",
    "\n",
    "_ = model_gb.fit(X_train, np.ravel(y_train))"
   ]
  },
  {
   "cell_type": "code",
   "execution_count": null,
   "id": "e234ddeb",
   "metadata": {},
   "outputs": [],
   "source": [
    "y_pred_gb = model_gb.predict(X_train)\n",
    "print(classification_report(y_train, y_pred_gb))"
   ]
  },
  {
   "cell_type": "code",
   "execution_count": null,
   "id": "530f885d",
   "metadata": {
    "scrolled": false
   },
   "outputs": [],
   "source": [
    "y_unseen_gb = model_gb.predict(X_test)\n",
    "print(classification_report(y_test, y_unseen_gb))"
   ]
  },
  {
   "cell_type": "code",
   "execution_count": null,
   "id": "9945e743",
   "metadata": {},
   "outputs": [],
   "source": [
    "file_out = \"../data/inference/basic_eda_xgb.csv\"\n",
    "test_df = pd.read_csv(\"../data/raw/test.csv\")\n",
    "test_df.head()\n",
    "test_features = test_df[['Pclass', 'Sex', 'Age', 'SibSp', 'Parch', 'Fare', 'Embarked', 'Cabin']]\n",
    "test_features['FamilySize'] = test_features['SibSp'] + test_features['Parch'] + 1\n",
    "test_features['IsAlone'] = np.where(test_features['FamilySize'] <= 1, 1, 0)\n",
    "test_features['Embarked'] = test_features['Embarked'].fillna('X')\n",
    "test_features['Age'] = test_features.groupby(['Sex','Pclass'], sort=False)['Age'].apply(lambda x: x.fillna(x.median()))\n",
    "test_features['Fare'] = test_features.groupby(['Sex','Pclass'], sort=False)['Fare'].apply(lambda x: x.fillna(x.median()))\n",
    "test_features['Has_Cabin'] = test_features['Cabin'].apply(lambda x: 0 if type(x) == float else 1)\n",
    "test_features['Cabin'] = test_features['Cabin'].fillna('X').map(lambda x: x[0].strip())\n",
    "cabin_map = {'A': 1, 'B': 2, 'C': 3, 'D': 4, 'E': 5,\n",
    "             'F': 6, 'G': 7, 'T': 1, 'X': 8}\n",
    "test_features['Cabin'] = test_features['Cabin'].str[0].fillna('X').replace(cabin_map)\n",
    "test_unseen = model_gb.predict(test_features)\n",
    "test_df['Survived'] = test_unseen.tolist()\n",
    "test_submission = test_df[['PassengerId', 'Survived']]\n",
    "test_submission.to_csv(file_out, index=False)"
   ]
  },
  {
   "cell_type": "code",
   "execution_count": null,
   "id": "fa8c5c0e",
   "metadata": {},
   "outputs": [],
   "source": [
    "X_train['Pclass'] = X_train['Pclass'].astype('category')\n",
    "X_train['Sex'] = X_train['Sex'].astype('category')\n",
    "X_train['Embarked'] = X_train['Embarked'].astype('category')\n",
    "X_train['Cabin'] = X_train['Cabin'].astype('category')\n",
    "X_train['IsAlone'] = X_train['IsAlone'].astype('category')\n",
    "X_train['Has_Cabin'] =  X_train['Has_Cabin'].astype('category')"
   ]
  },
  {
   "cell_type": "code",
   "execution_count": null,
   "id": "5b358ab8",
   "metadata": {},
   "outputs": [],
   "source": [
    "X_train.dtypes"
   ]
  },
  {
   "cell_type": "code",
   "execution_count": null,
   "id": "8e4db7cf",
   "metadata": {
    "scrolled": true
   },
   "outputs": [],
   "source": [
    "pipeline_optimizer = TPOTClassifier(population_size=20, cv=5,\n",
    "                                    random_state=42, verbosity=2, config_dict='TPOT light',\n",
    "                                    max_time_mins=30, scoring='accuracy')"
   ]
  },
  {
   "cell_type": "code",
   "execution_count": null,
   "id": "2a01fa1e",
   "metadata": {},
   "outputs": [],
   "source": [
    "t_num = ['Age', 'SibSp', 'Parch', 'Fare']\n",
    "t_cat = ['Pclass', 'Sex', 'Embarked', 'Cabin', 'IsAlone', 'Has_Cabin']\n",
    "\n",
    "preprocessor = make_column_transformer(\n",
    "    (StandardScaler(), t_num),\n",
    "    (OneHotEncoder(drop='if_binary'), t_cat), \n",
    "    remainder='drop')\n",
    "\n",
    "model = make_pipeline(\n",
    "    preprocessor,\n",
    "    pipeline_optimizer)\n",
    "\n",
    "_ = model.fit(X_train, np.ravel(y_train))"
   ]
  }
 ],
 "metadata": {
  "kernelspec": {
   "display_name": "Python 3",
   "language": "python",
   "name": "python3"
  },
  "language_info": {
   "codemirror_mode": {
    "name": "ipython",
    "version": 3
   },
   "file_extension": ".py",
   "mimetype": "text/x-python",
   "name": "python",
   "nbconvert_exporter": "python",
   "pygments_lexer": "ipython3",
   "version": "3.8.8"
  }
 },
 "nbformat": 4,
 "nbformat_minor": 5
}
