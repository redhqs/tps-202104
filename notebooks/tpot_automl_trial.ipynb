{
 "cells": [
  {
   "cell_type": "markdown",
   "id": "7530a7dc",
   "metadata": {},
   "source": [
    "### Trialling TPOT\n",
    "\n",
    "Having not used TPOT before, this could be a good opportunity to compare it to the model I produced after some basic EDA and modelling.\n",
    "\n",
    "This is more of a draft/trial to see how TPOT performs and how much feature engineering is needed."
   ]
  },
  {
   "cell_type": "code",
   "execution_count": null,
   "id": "ae442e1d",
   "metadata": {},
   "outputs": [],
   "source": [
    "import numpy as np\n",
    "import pandas as pd\n",
    "from sklearn.model_selection import train_test_split\n",
    "from sklearn.compose import ColumnTransformer\n",
    "from sklearn.compose import make_column_transformer\n",
    "from sklearn.pipeline import make_pipeline\n",
    "from sklearn.preprocessing import StandardScaler, OneHotEncoder\n",
    "from sklearn.metrics import classification_report\n",
    "from tpot import TPOTClassifier"
   ]
  },
  {
   "cell_type": "code",
   "execution_count": null,
   "id": "2b84ddbb",
   "metadata": {},
   "outputs": [],
   "source": [
    "df = pd.read_csv(\"../data/raw/train.csv\")"
   ]
  },
  {
   "cell_type": "code",
   "execution_count": null,
   "id": "9143fd15",
   "metadata": {},
   "outputs": [],
   "source": [
    "df.head()"
   ]
  },
  {
   "cell_type": "markdown",
   "id": "4845d343",
   "metadata": {},
   "source": [
    "Only applying basic imputation and cleaning from the main notebook:"
   ]
  },
  {
   "cell_type": "code",
   "execution_count": null,
   "id": "e29bdab5",
   "metadata": {},
   "outputs": [],
   "source": [
    "target = df[['Survived']].rename(columns={'Survived': 'class'})\n",
    "na_fill = {'Embarked': 'X', 'Cabin': 'X', 'Ticket': 'X'}\n",
    "df.fillna(value=na_fill, inplace=True)\n",
    "df['Cabin'] = df['Cabin'].map(lambda x: x[0].strip())\n",
    "df['Ticket'] = df['Ticket'].map(lambda x:str(x).split()[0] if len(str(x).split()) > 1 else 'X')\n",
    "\n",
    "fare_map = df[['Fare', 'Pclass']].dropna().groupby('Pclass').median().to_dict()\n",
    "df['Fare'] = df['Fare'].fillna(df['Pclass'].map(fare_map['Fare']))\n",
    "age_map = df[['Age', 'Sex']].dropna().groupby(['Sex']).median().to_dict()\n",
    "df['Age'] = df['Age'].fillna(df['Sex'].map(age_map['Age']))"
   ]
  },
  {
   "cell_type": "code",
   "execution_count": null,
   "id": "f3d6339e",
   "metadata": {},
   "outputs": [],
   "source": [
    "categorical = ['Pclass', 'Sex', 'Embarked', 'Cabin', 'Ticket']\n",
    "numeric = ['Age', 'SibSp', 'Parch', 'Fare']"
   ]
  },
  {
   "cell_type": "code",
   "execution_count": null,
   "id": "e8813b8e",
   "metadata": {},
   "outputs": [],
   "source": [
    "target.info()"
   ]
  },
  {
   "cell_type": "code",
   "execution_count": null,
   "id": "0cc8276a",
   "metadata": {},
   "outputs": [],
   "source": [
    "df.info()"
   ]
  },
  {
   "cell_type": "code",
   "execution_count": null,
   "id": "6ade2d98",
   "metadata": {},
   "outputs": [],
   "source": [
    "pre_process = ColumnTransformer([\n",
    "    ('num', StandardScaler(), numeric),\n",
    "    ('cat', OneHotEncoder(), categorical)], n_jobs=-1)\n",
    "prep = pre_process.fit_transform(df)"
   ]
  },
  {
   "cell_type": "code",
   "execution_count": null,
   "id": "da2bc826",
   "metadata": {},
   "outputs": [],
   "source": [
    "prep"
   ]
  },
  {
   "cell_type": "code",
   "execution_count": null,
   "id": "d0fafb9f",
   "metadata": {
    "scrolled": true
   },
   "outputs": [],
   "source": [
    "target"
   ]
  },
  {
   "cell_type": "markdown",
   "id": "edcef1e4",
   "metadata": {},
   "source": [
    "Choice of `config_dict` has a huge impact - my GPU config may not be fully complete, or alternatively my GTX 1080 is showing its age!"
   ]
  },
  {
   "cell_type": "code",
   "execution_count": null,
   "id": "ccd25a4d",
   "metadata": {},
   "outputs": [],
   "source": [
    "pipeline_optimizer = TPOTClassifier(max_eval_time_mins=420, cv=3, early_stop=5,\n",
    "                                    random_state=42, verbosity=3, config_dict='TPOT NN',\n",
    "                                    scoring='f1', n_jobs=-1)\n",
    "pipeline_optimizer.fit(prep, target)\n",
    "model.fit(X_train, np.ravel(y_train))"
   ]
  },
  {
   "cell_type": "markdown",
   "id": "5edb28d2",
   "metadata": {},
   "source": [
    "Applies transformations to test set and prepares submission csv"
   ]
  },
  {
   "cell_type": "code",
   "execution_count": null,
   "id": "88032111",
   "metadata": {},
   "outputs": [],
   "source": [
    "file_out = \"../data/inference/tpot.csv\"\n",
    "test_df = pd.read_csv(\"../data/raw/test.csv\")\n",
    "test_df.head()\n",
    "test_features = test_df[['Pclass', 'Sex', 'Age', 'SibSp', 'Parch', 'Fare', 'Embarked', 'Cabin']]\n",
    "# test_features['FamilySize'] = test_features['SibSp'] + test_features['Parch'] + 1\n",
    "# test_features['IsAlone'] = np.where(test_features['FamilySize'] <= 1, 1, 0)\n",
    "test_features['Embarked'] = test_features['Embarked'].fillna('X')\n",
    "test_features['Age'] = test_features.groupby(['Sex','Pclass'], sort=False)['Age'].apply(lambda x: x.fillna(x.median()))\n",
    "test_features['Fare'] = test_features.groupby(['Sex','Pclass'], sort=False)['Fare'].apply(lambda x: x.fillna(x.median()))\n",
    "# test_features['Has_Cabin'] = test_features['Cabin'].apply(lambda x: 0 if type(x) == float else 1)\n",
    "test_features['Cabin'] = test_features['Cabin'].fillna('X').map(lambda x: x[0].strip())\n",
    "\n",
    "test_unseen = model.predict(test_features)\n",
    "test_df['Survived'] = test_unseen.tolist()\n",
    "test_submission = test_df[['PassengerId', 'Survived']]\n",
    "test_submission.to_csv(file_out, index=False)"
   ]
  }
 ],
 "metadata": {
  "kernelspec": {
   "display_name": "Python 3",
   "language": "python",
   "name": "python3"
  },
  "language_info": {
   "codemirror_mode": {
    "name": "ipython",
    "version": 3
   },
   "file_extension": ".py",
   "mimetype": "text/x-python",
   "name": "python",
   "nbconvert_exporter": "python",
   "pygments_lexer": "ipython3",
   "version": "3.8.8"
  }
 },
 "nbformat": 4,
 "nbformat_minor": 5
}
